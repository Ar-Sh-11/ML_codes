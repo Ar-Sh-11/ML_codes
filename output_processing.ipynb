{
 "cells": [
  {
   "cell_type": "code",
   "execution_count": 1,
   "metadata": {},
   "outputs": [],
   "source": [
    "import numpy as np\n",
    "import pandas as pd\n",
    "import matplotlib.pyplot as plt"
   ]
  },
  {
   "cell_type": "code",
   "execution_count": 51,
   "metadata": {},
   "outputs": [],
   "source": [
    "op=pd.read_csv('MYO_P-3.csv')"
   ]
  },
  {
   "cell_type": "code",
   "execution_count": 52,
   "metadata": {},
   "outputs": [],
   "source": [
    "op.drop(op.columns[0],axis=1,inplace=True)"
   ]
  },
  {
   "cell_type": "code",
   "execution_count": 57,
   "metadata": {},
   "outputs": [
    {
     "data": {
      "text/plain": [
       "(8496466, 63)"
      ]
     },
     "execution_count": 57,
     "metadata": {},
     "output_type": "execute_result"
    }
   ],
   "source": [
    "np.shape(op)"
   ]
  },
  {
   "cell_type": "code",
   "execution_count": 58,
   "metadata": {},
   "outputs": [],
   "source": [
    "op.to_csv('eval_withpred.csv')"
   ]
  },
  {
   "cell_type": "code",
   "execution_count": 7,
   "metadata": {},
   "outputs": [
    {
     "data": {
      "text/html": [
       "<div>\n",
       "<style scoped>\n",
       "    .dataframe tbody tr th:only-of-type {\n",
       "        vertical-align: middle;\n",
       "    }\n",
       "\n",
       "    .dataframe tbody tr th {\n",
       "        vertical-align: top;\n",
       "    }\n",
       "\n",
       "    .dataframe thead th {\n",
       "        text-align: right;\n",
       "    }\n",
       "</style>\n",
       "<table border=\"1\" class=\"dataframe\">\n",
       "  <thead>\n",
       "    <tr style=\"text-align: right;\">\n",
       "      <th></th>\n",
       "      <th>customer_spend_01</th>\n",
       "      <th>customer_industry_spend_01</th>\n",
       "      <th>customer_industry_spend_02</th>\n",
       "      <th>customer_industry_spend_03</th>\n",
       "      <th>customer_industry_spend_04</th>\n",
       "      <th>customer_industry_spend_05</th>\n",
       "      <th>customer_spend_02</th>\n",
       "      <th>customer_spend_03</th>\n",
       "      <th>customer_spend_04</th>\n",
       "      <th>customer_spend_05</th>\n",
       "      <th>...</th>\n",
       "      <th>customer_digital_activity_01</th>\n",
       "      <th>merchant_spend_10</th>\n",
       "      <th>customer_profile_03</th>\n",
       "      <th>customer_digital_activity_02</th>\n",
       "      <th>customer_profile_04</th>\n",
       "      <th>distance_05</th>\n",
       "      <th>customer</th>\n",
       "      <th>merchant</th>\n",
       "      <th>ind_recommended</th>\n",
       "      <th>activation</th>\n",
       "    </tr>\n",
       "  </thead>\n",
       "  <tbody>\n",
       "    <tr>\n",
       "      <th>count</th>\n",
       "      <td>8.496466e+06</td>\n",
       "      <td>8.496466e+06</td>\n",
       "      <td>8.496466e+06</td>\n",
       "      <td>8.496466e+06</td>\n",
       "      <td>8.496466e+06</td>\n",
       "      <td>8.496466e+06</td>\n",
       "      <td>8.496466e+06</td>\n",
       "      <td>8.496466e+06</td>\n",
       "      <td>8.496466e+06</td>\n",
       "      <td>8.496466e+06</td>\n",
       "      <td>...</td>\n",
       "      <td>8.496466e+06</td>\n",
       "      <td>8.496466e+06</td>\n",
       "      <td>8.496466e+06</td>\n",
       "      <td>8.496466e+06</td>\n",
       "      <td>8.496466e+06</td>\n",
       "      <td>8.496466e+06</td>\n",
       "      <td>8.496466e+06</td>\n",
       "      <td>8.496466e+06</td>\n",
       "      <td>8.496466e+06</td>\n",
       "      <td>8.496466e+06</td>\n",
       "    </tr>\n",
       "    <tr>\n",
       "      <th>mean</th>\n",
       "      <td>1.492147e+02</td>\n",
       "      <td>9.970910e+01</td>\n",
       "      <td>1.471235e+01</td>\n",
       "      <td>2.092020e+03</td>\n",
       "      <td>3.527685e+01</td>\n",
       "      <td>2.683439e+01</td>\n",
       "      <td>8.058610e+00</td>\n",
       "      <td>4.442742e+01</td>\n",
       "      <td>9.701724e+04</td>\n",
       "      <td>1.801124e+04</td>\n",
       "      <td>...</td>\n",
       "      <td>5.499904e-01</td>\n",
       "      <td>1.955603e+02</td>\n",
       "      <td>5.112411e+01</td>\n",
       "      <td>5.923068e+00</td>\n",
       "      <td>1.802686e+02</td>\n",
       "      <td>5.048364e+00</td>\n",
       "      <td>5.100836e+05</td>\n",
       "      <td>8.341069e+05</td>\n",
       "      <td>7.623240e-02</td>\n",
       "      <td>1.587719e-04</td>\n",
       "    </tr>\n",
       "    <tr>\n",
       "      <th>std</th>\n",
       "      <td>6.945024e+02</td>\n",
       "      <td>3.899369e+02</td>\n",
       "      <td>1.685625e+01</td>\n",
       "      <td>1.269505e+04</td>\n",
       "      <td>5.361482e+01</td>\n",
       "      <td>3.112395e+01</td>\n",
       "      <td>6.449509e+00</td>\n",
       "      <td>4.484309e+01</td>\n",
       "      <td>1.495315e+05</td>\n",
       "      <td>6.916425e+04</td>\n",
       "      <td>...</td>\n",
       "      <td>3.373910e-01</td>\n",
       "      <td>9.036624e+02</td>\n",
       "      <td>3.357628e+01</td>\n",
       "      <td>1.397017e+01</td>\n",
       "      <td>1.401329e+02</td>\n",
       "      <td>5.106940e+00</td>\n",
       "      <td>2.762949e+04</td>\n",
       "      <td>1.402189e+05</td>\n",
       "      <td>2.653696e-01</td>\n",
       "      <td>1.259947e-02</td>\n",
       "    </tr>\n",
       "    <tr>\n",
       "      <th>min</th>\n",
       "      <td>1.000000e+00</td>\n",
       "      <td>1.000000e+00</td>\n",
       "      <td>1.000000e+00</td>\n",
       "      <td>1.000000e+00</td>\n",
       "      <td>1.000000e+00</td>\n",
       "      <td>1.000000e+00</td>\n",
       "      <td>0.000000e+00</td>\n",
       "      <td>0.000000e+00</td>\n",
       "      <td>1.000000e+00</td>\n",
       "      <td>1.000000e+00</td>\n",
       "      <td>...</td>\n",
       "      <td>0.000000e+00</td>\n",
       "      <td>9.299422e-01</td>\n",
       "      <td>0.000000e+00</td>\n",
       "      <td>0.000000e+00</td>\n",
       "      <td>1.000000e+00</td>\n",
       "      <td>0.000000e+00</td>\n",
       "      <td>4.625840e+05</td>\n",
       "      <td>5.919730e+05</td>\n",
       "      <td>0.000000e+00</td>\n",
       "      <td>0.000000e+00</td>\n",
       "    </tr>\n",
       "    <tr>\n",
       "      <th>25%</th>\n",
       "      <td>4.542692e+01</td>\n",
       "      <td>3.404833e+01</td>\n",
       "      <td>4.000000e+00</td>\n",
       "      <td>4.010000e+02</td>\n",
       "      <td>8.000000e+00</td>\n",
       "      <td>7.000000e+00</td>\n",
       "      <td>3.000000e+00</td>\n",
       "      <td>1.000000e+01</td>\n",
       "      <td>4.465300e+04</td>\n",
       "      <td>1.928880e+03</td>\n",
       "      <td>...</td>\n",
       "      <td>2.564103e-01</td>\n",
       "      <td>2.284000e+01</td>\n",
       "      <td>1.989965e+01</td>\n",
       "      <td>1.000000e+00</td>\n",
       "      <td>6.000000e+01</td>\n",
       "      <td>1.657981e+00</td>\n",
       "      <td>4.860590e+05</td>\n",
       "      <td>7.132650e+05</td>\n",
       "      <td>0.000000e+00</td>\n",
       "      <td>0.000000e+00</td>\n",
       "    </tr>\n",
       "    <tr>\n",
       "      <th>50%</th>\n",
       "      <td>8.114286e+01</td>\n",
       "      <td>9.970910e+01</td>\n",
       "      <td>1.471235e+01</td>\n",
       "      <td>2.092020e+03</td>\n",
       "      <td>3.527685e+01</td>\n",
       "      <td>2.683439e+01</td>\n",
       "      <td>8.000000e+00</td>\n",
       "      <td>3.300000e+01</td>\n",
       "      <td>9.701724e+04</td>\n",
       "      <td>7.186030e+03</td>\n",
       "      <td>...</td>\n",
       "      <td>5.499904e-01</td>\n",
       "      <td>4.026000e+01</td>\n",
       "      <td>5.112411e+01</td>\n",
       "      <td>2.666667e+00</td>\n",
       "      <td>1.670000e+02</td>\n",
       "      <td>3.429545e+00</td>\n",
       "      <td>5.099580e+05</td>\n",
       "      <td>8.342580e+05</td>\n",
       "      <td>0.000000e+00</td>\n",
       "      <td>0.000000e+00</td>\n",
       "    </tr>\n",
       "    <tr>\n",
       "      <th>75%</th>\n",
       "      <td>1.492147e+02</td>\n",
       "      <td>9.970910e+01</td>\n",
       "      <td>1.471235e+01</td>\n",
       "      <td>2.092020e+03</td>\n",
       "      <td>3.527685e+01</td>\n",
       "      <td>2.683439e+01</td>\n",
       "      <td>1.000000e+01</td>\n",
       "      <td>6.100000e+01</td>\n",
       "      <td>9.701724e+04</td>\n",
       "      <td>1.801124e+04</td>\n",
       "      <td>...</td>\n",
       "      <td>8.750000e-01</td>\n",
       "      <td>1.124500e+02</td>\n",
       "      <td>8.295934e+01</td>\n",
       "      <td>5.923068e+00</td>\n",
       "      <td>2.510000e+02</td>\n",
       "      <td>6.508504e+00</td>\n",
       "      <td>5.340240e+05</td>\n",
       "      <td>9.552630e+05</td>\n",
       "      <td>0.000000e+00</td>\n",
       "      <td>0.000000e+00</td>\n",
       "    </tr>\n",
       "    <tr>\n",
       "      <th>max</th>\n",
       "      <td>1.502480e+05</td>\n",
       "      <td>1.324715e+05</td>\n",
       "      <td>4.410000e+02</td>\n",
       "      <td>3.916889e+06</td>\n",
       "      <td>4.494000e+04</td>\n",
       "      <td>3.520000e+02</td>\n",
       "      <td>1.460000e+02</td>\n",
       "      <td>8.210000e+02</td>\n",
       "      <td>9.729229e+06</td>\n",
       "      <td>8.571199e+06</td>\n",
       "      <td>...</td>\n",
       "      <td>1.000000e+00</td>\n",
       "      <td>4.360902e+05</td>\n",
       "      <td>1.000000e+02</td>\n",
       "      <td>1.710333e+03</td>\n",
       "      <td>7.550000e+02</td>\n",
       "      <td>3.540678e+01</td>\n",
       "      <td>5.581130e+05</td>\n",
       "      <td>1.077091e+06</td>\n",
       "      <td>1.000000e+00</td>\n",
       "      <td>1.000000e+00</td>\n",
       "    </tr>\n",
       "  </tbody>\n",
       "</table>\n",
       "<p>8 rows × 63 columns</p>\n",
       "</div>"
      ],
      "text/plain": [
       "       customer_spend_01  customer_industry_spend_01   \n",
       "count       8.496466e+06                8.496466e+06  \\\n",
       "mean        1.492147e+02                9.970910e+01   \n",
       "std         6.945024e+02                3.899369e+02   \n",
       "min         1.000000e+00                1.000000e+00   \n",
       "25%         4.542692e+01                3.404833e+01   \n",
       "50%         8.114286e+01                9.970910e+01   \n",
       "75%         1.492147e+02                9.970910e+01   \n",
       "max         1.502480e+05                1.324715e+05   \n",
       "\n",
       "       customer_industry_spend_02  customer_industry_spend_03   \n",
       "count                8.496466e+06                8.496466e+06  \\\n",
       "mean                 1.471235e+01                2.092020e+03   \n",
       "std                  1.685625e+01                1.269505e+04   \n",
       "min                  1.000000e+00                1.000000e+00   \n",
       "25%                  4.000000e+00                4.010000e+02   \n",
       "50%                  1.471235e+01                2.092020e+03   \n",
       "75%                  1.471235e+01                2.092020e+03   \n",
       "max                  4.410000e+02                3.916889e+06   \n",
       "\n",
       "       customer_industry_spend_04  customer_industry_spend_05   \n",
       "count                8.496466e+06                8.496466e+06  \\\n",
       "mean                 3.527685e+01                2.683439e+01   \n",
       "std                  5.361482e+01                3.112395e+01   \n",
       "min                  1.000000e+00                1.000000e+00   \n",
       "25%                  8.000000e+00                7.000000e+00   \n",
       "50%                  3.527685e+01                2.683439e+01   \n",
       "75%                  3.527685e+01                2.683439e+01   \n",
       "max                  4.494000e+04                3.520000e+02   \n",
       "\n",
       "       customer_spend_02  customer_spend_03  customer_spend_04   \n",
       "count       8.496466e+06       8.496466e+06       8.496466e+06  \\\n",
       "mean        8.058610e+00       4.442742e+01       9.701724e+04   \n",
       "std         6.449509e+00       4.484309e+01       1.495315e+05   \n",
       "min         0.000000e+00       0.000000e+00       1.000000e+00   \n",
       "25%         3.000000e+00       1.000000e+01       4.465300e+04   \n",
       "50%         8.000000e+00       3.300000e+01       9.701724e+04   \n",
       "75%         1.000000e+01       6.100000e+01       9.701724e+04   \n",
       "max         1.460000e+02       8.210000e+02       9.729229e+06   \n",
       "\n",
       "       customer_spend_05  ...  customer_digital_activity_01   \n",
       "count       8.496466e+06  ...                  8.496466e+06  \\\n",
       "mean        1.801124e+04  ...                  5.499904e-01   \n",
       "std         6.916425e+04  ...                  3.373910e-01   \n",
       "min         1.000000e+00  ...                  0.000000e+00   \n",
       "25%         1.928880e+03  ...                  2.564103e-01   \n",
       "50%         7.186030e+03  ...                  5.499904e-01   \n",
       "75%         1.801124e+04  ...                  8.750000e-01   \n",
       "max         8.571199e+06  ...                  1.000000e+00   \n",
       "\n",
       "       merchant_spend_10  customer_profile_03  customer_digital_activity_02   \n",
       "count       8.496466e+06         8.496466e+06                  8.496466e+06  \\\n",
       "mean        1.955603e+02         5.112411e+01                  5.923068e+00   \n",
       "std         9.036624e+02         3.357628e+01                  1.397017e+01   \n",
       "min         9.299422e-01         0.000000e+00                  0.000000e+00   \n",
       "25%         2.284000e+01         1.989965e+01                  1.000000e+00   \n",
       "50%         4.026000e+01         5.112411e+01                  2.666667e+00   \n",
       "75%         1.124500e+02         8.295934e+01                  5.923068e+00   \n",
       "max         4.360902e+05         1.000000e+02                  1.710333e+03   \n",
       "\n",
       "       customer_profile_04   distance_05      customer      merchant   \n",
       "count         8.496466e+06  8.496466e+06  8.496466e+06  8.496466e+06  \\\n",
       "mean          1.802686e+02  5.048364e+00  5.100836e+05  8.341069e+05   \n",
       "std           1.401329e+02  5.106940e+00  2.762949e+04  1.402189e+05   \n",
       "min           1.000000e+00  0.000000e+00  4.625840e+05  5.919730e+05   \n",
       "25%           6.000000e+01  1.657981e+00  4.860590e+05  7.132650e+05   \n",
       "50%           1.670000e+02  3.429545e+00  5.099580e+05  8.342580e+05   \n",
       "75%           2.510000e+02  6.508504e+00  5.340240e+05  9.552630e+05   \n",
       "max           7.550000e+02  3.540678e+01  5.581130e+05  1.077091e+06   \n",
       "\n",
       "       ind_recommended    activation  \n",
       "count     8.496466e+06  8.496466e+06  \n",
       "mean      7.623240e-02  1.587719e-04  \n",
       "std       2.653696e-01  1.259947e-02  \n",
       "min       0.000000e+00  0.000000e+00  \n",
       "25%       0.000000e+00  0.000000e+00  \n",
       "50%       0.000000e+00  0.000000e+00  \n",
       "75%       0.000000e+00  0.000000e+00  \n",
       "max       1.000000e+00  1.000000e+00  \n",
       "\n",
       "[8 rows x 63 columns]"
      ]
     },
     "execution_count": 7,
     "metadata": {},
     "output_type": "execute_result"
    }
   ],
   "source": [
    "op.describe()"
   ]
  },
  {
   "cell_type": "code",
   "execution_count": 9,
   "metadata": {},
   "outputs": [
    {
     "data": {
      "text/plain": [
       "count    8.496466e+06\n",
       "mean     7.623240e-02\n",
       "std      2.653696e-01\n",
       "min      0.000000e+00\n",
       "25%      0.000000e+00\n",
       "50%      0.000000e+00\n",
       "75%      0.000000e+00\n",
       "max      1.000000e+00\n",
       "Name: ind_recommended, dtype: float64"
      ]
     },
     "execution_count": 9,
     "metadata": {},
     "output_type": "execute_result"
    }
   ],
   "source": [
    "op['ind_recommended'].describe()"
   ]
  },
  {
   "cell_type": "code",
   "execution_count": 8,
   "metadata": {},
   "outputs": [
    {
     "data": {
      "text/plain": [
       "count    8.496466e+06\n",
       "mean     1.587719e-04\n",
       "std      1.259947e-02\n",
       "min      0.000000e+00\n",
       "25%      0.000000e+00\n",
       "50%      0.000000e+00\n",
       "75%      0.000000e+00\n",
       "max      1.000000e+00\n",
       "Name: activation, dtype: float64"
      ]
     },
     "execution_count": 8,
     "metadata": {},
     "output_type": "execute_result"
    }
   ],
   "source": [
    "op['activation'].describe()"
   ]
  },
  {
   "cell_type": "code",
   "execution_count": 10,
   "metadata": {},
   "outputs": [
    {
     "data": {
      "text/plain": [
       "0.015877189410279522"
      ]
     },
     "execution_count": 10,
     "metadata": {},
     "output_type": "execute_result"
    }
   ],
   "source": [
    "sum(op['activation']==1)/len(op)*100"
   ]
  },
  {
   "cell_type": "code",
   "execution_count": 11,
   "metadata": {},
   "outputs": [
    {
     "data": {
      "text/plain": [
       "(647706, 1349, 8496466)"
      ]
     },
     "execution_count": 11,
     "metadata": {},
     "output_type": "execute_result"
    }
   ],
   "source": [
    "sum(op['ind_recommended']==1),sum(op['activation']==1),len(op)"
   ]
  },
  {
   "cell_type": "code",
   "execution_count": 16,
   "metadata": {},
   "outputs": [
    {
     "data": {
      "text/plain": [
       "0"
      ]
     },
     "execution_count": 16,
     "metadata": {},
     "output_type": "execute_result"
    }
   ],
   "source": [
    "sum(op.isna().sum())"
   ]
  },
  {
   "cell_type": "code",
   "execution_count": 14,
   "metadata": {},
   "outputs": [
    {
     "data": {
      "text/plain": [
       "Index(['customer_spend_01', 'customer_industry_spend_01',\n",
       "       'customer_industry_spend_02', 'customer_industry_spend_03',\n",
       "       'customer_industry_spend_04', 'customer_industry_spend_05',\n",
       "       'customer_spend_02', 'customer_spend_03', 'customer_spend_04',\n",
       "       'customer_spend_05', 'customer_spend_06', 'customer_spend_07',\n",
       "       'merchant_spend_01', 'merchant_spend_02', 'merchant_spend_03',\n",
       "       'merchant_spend_04', 'merchant_spend_05', 'merchant_spend_06',\n",
       "       'merchant_spend_07', 'merchant_spend_08', 'merchant_profile_01',\n",
       "       'customer_merchant_03', 'customer_profile_01', 'customer_profile_02',\n",
       "       'customer_digital_activity_05', 'customer_spend_13',\n",
       "       'customer_digital_activity_06', 'customer_spend_14',\n",
       "       'customer_digital_activity_10', 'customer_digital_activity_11',\n",
       "       'customer_digital_activity_12', 'customer_digital_activity_13',\n",
       "       'customer_digital_activity_14', 'customer_digital_activity_15',\n",
       "       'customer_spend_15', 'customer_digital_activity_16',\n",
       "       'customer_spend_16', 'customer_spend_17',\n",
       "       'customer_digital_activity_17', 'customer_digital_activity_03',\n",
       "       'customer_digital_activity_19', 'distance_01',\n",
       "       'customer_digital_activity_20', 'distance_02', 'distance_03',\n",
       "       'customer_spend_18', 'customer_spend_19',\n",
       "       'customer_digital_activity_21', 'customer_digital_activity_22',\n",
       "       'distance_04', 'merchant_profile_02', 'merchant_spend_09',\n",
       "       'merchant_profile_03', 'customer_digital_activity_01',\n",
       "       'merchant_spend_10', 'customer_profile_03',\n",
       "       'customer_digital_activity_02', 'customer_profile_04', 'distance_05',\n",
       "       'customer', 'merchant', 'ind_recommended', 'activation'],\n",
       "      dtype='object')"
      ]
     },
     "execution_count": 14,
     "metadata": {},
     "output_type": "execute_result"
    }
   ],
   "source": [
    "op.columns"
   ]
  },
  {
   "cell_type": "code",
   "execution_count": null,
   "metadata": {},
   "outputs": [],
   "source": [
    "op=op.fillna(op.mean())"
   ]
  },
  {
   "cell_type": "code",
   "execution_count": 73,
   "metadata": {},
   "outputs": [],
   "source": [
    "#sorted=customer_group.sort_values(by=['Incremental_Activation_Rate'], ascending=True)"
   ]
  },
  {
   "cell_type": "code",
   "execution_count": 102,
   "metadata": {},
   "outputs": [
    {
     "data": {
      "text/plain": [
       "0           599167\n",
       "1           686617\n",
       "2           829193\n",
       "3          1077034\n",
       "4           876647\n",
       "            ...   \n",
       "8496461     644485\n",
       "8496462     802309\n",
       "8496463     741321\n",
       "8496464     625845\n",
       "8496465     639032\n",
       "Name: merchant, Length: 8496466, dtype: int64"
      ]
     },
     "execution_count": 102,
     "metadata": {},
     "output_type": "execute_result"
    }
   ],
   "source": [
    "op['merchant']"
   ]
  },
  {
   "cell_type": "code",
   "execution_count": 21,
   "metadata": {},
   "outputs": [],
   "source": [
    "data=op[['customer','merchant','activation','ind_recommended']]"
   ]
  },
  {
   "cell_type": "code",
   "execution_count": 44,
   "metadata": {},
   "outputs": [
    {
     "name": "stderr",
     "output_type": "stream",
     "text": [
      "C:\\Users\\ARIHANT\\AppData\\Local\\Temp\\ipykernel_24408\\3432531023.py:27: SettingWithCopyWarning: \n",
      "A value is trying to be set on a copy of a slice from a DataFrame\n",
      "\n",
      "See the caveats in the documentation: https://pandas.pydata.org/pandas-docs/stable/user_guide/indexing.html#returning-a-view-versus-a-copy\n",
      "  customer_scores.drop_duplicates(inplace=True)  # Remove duplicate rows\n"
     ]
    }
   ],
   "source": [
    "\n",
    "# Calculate activation rates for each merchant\n",
    "merchant_activation_rates = data.groupby(['merchant', 'ind_recommended'])['activation'].mean().unstack()\n",
    "\n",
    "# Replace NaN with 0 for activation rates of recommended merchants\n",
    "merchant_activation_rates[1.0].fillna(0, inplace=True)\n",
    "\n",
    "# Calculate activation rate differences\n",
    "activation_rate_diff = merchant_activation_rates[1.0] - merchant_activation_rates[0.0]\n",
    "\n",
    "# Create a DataFrame to store the activation rate differences\n",
    "activation_rate_diff_df = pd.DataFrame(activation_rate_diff, columns=['merchant_score'])\n",
    "\n",
    "# Reset the index to include 'merchant' as a column\n",
    "activation_rate_diff_df.reset_index(inplace=True)\n",
    "\n",
    "# Concatenate 'merchant_score' column back to the original data\n",
    "data = pd.merge(data, activation_rate_diff_df, on='merchant', how='left')\n",
    "\n",
    "# Rank merchants by activation rate differences for each customer\n",
    "data['rank'] = data.groupby('customer')['merchant_score'].rank(ascending=False)\n",
    "\n",
    "# Calculate the Incremental Activation Rate for each customer\n",
    "data['customer_score'] = data.groupby('customer')['merchant_score'].transform(lambda x: x.head(10).sum() if len(x) >= 10 else x.sum())\n",
    "\n",
    "# Save the DataFrame to a CSV file with columns 'customer', 'merchant', 'customer_score'\n",
    "customer_scores = data[['customer', 'merchant', 'predicted_score']]\n",
    "customer_scores.drop_duplicates(inplace=True)  # Remove duplicate rows\n",
    "customer_scores.to_csv('customer_scores.csv', index=False)"
   ]
  },
  {
   "cell_type": "code",
   "execution_count": 67,
   "metadata": {},
   "outputs": [],
   "source": [
    "customer_scores.rename(columns={'customer_score': 'predicted_score'}).to_csv('final_submission_new.csv',index=False)"
   ]
  },
  {
   "cell_type": "code",
   "execution_count": null,
   "metadata": {},
   "outputs": [],
   "source": [
    "predicted_scores"
   ]
  }
 ],
 "metadata": {
  "kernelspec": {
   "display_name": "Python 3",
   "language": "python",
   "name": "python3"
  },
  "language_info": {
   "codemirror_mode": {
    "name": "ipython",
    "version": 3
   },
   "file_extension": ".py",
   "mimetype": "text/x-python",
   "name": "python",
   "nbconvert_exporter": "python",
   "pygments_lexer": "ipython3",
   "version": "3.11.3"
  },
  "orig_nbformat": 4
 },
 "nbformat": 4,
 "nbformat_minor": 2
}
